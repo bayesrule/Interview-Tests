{
 "cells": [
  {
   "cell_type": "markdown",
   "metadata": {},
   "source": [
    "# Call Centre\n",
    "## Setup\n",
    "\n",
    "This is a test on basic data processing. The test is tool-agnostic; you may use any data processing tool you like. Typical examples would include, Excel, python / pandas, matlab, SQL etc. The test is timed to last approximately 2 hours. Points available for each question are marked in [brackets].\n",
    " \n",
    "You have been given 3 csv files:\n",
    "\n",
    "- leads.csv. This is a list of fictitious company directors, with some basic data about them and their company.\n",
    "\n",
    "- calls.csv. This is a list of fictitious calls made by an outbound call centre. The call centre consists of several agents, who make calls one after the other. They don’t get to choose who to call, the system does. The objective of the call is to get the lead to signup on the website. When they finish a call, they mark down the outcome, from a fixed list of possible outcomes. Note that a single lead may be called multiple times.\n",
    "\n",
    "- signups.csv. This is a list of leads who signed up after being called by someone from the call centre. Each signup was risk assessed and either approved or rejected for a loan.\n",
    "\n",
    "\n",
    "## Questions\n",
    "\n",
    "- Which agent made the most calls? [1]  \n",
    "\n",
    "**Orange**\n",
    "- For the leads that received one or more calls, how many calls were received on average? [2] \n",
    "\n",
    "** avg: 1.8 **\n",
    "- For the leads that signed up, how many calls were received, on average? [2] \n",
    "\n",
    "** avg: 2.1 **\n",
    "- Which agent had the most signups? Which assumptions did you make? (note that there is a many-to-one relationship between calls and leads) [4]\n",
    "\n",
    "** The agent RED had the most signups. I assumed that a good indication of signups is the number of INTERESTED Leads that each agent had and the difference between CALL BACK LATER and INTERESTED outcome. Agent RED had the biggest difference between these two outcomes. **\n",
    "- Which agent had the most signups per call? [2]\n",
    "\n",
    "** Agent BLUE had the most signups per call with 0.26 ratio. But I would say that this ratio is not accurate (and is just a lucky strike) because the total number of calls made by agent BLUE is so much lower compared to other agents. I would say that agent RED is the one with the highest signups per call average among the agents. **\n",
    "- Was the variation between the agents’ signups-per-call statistically significant?\n",
    "\n",
    "** Was not for all the agents. **\n",
    "- Why? [5]\n",
    "\n",
    "** The difference was not always statistically significant because the sample size of certain agents was too small. **\n",
    "- A lead from which region is most likely to be “interested” in the product? [3]\n",
    "\n",
    "** north-west. **\n",
    "- A lead from which sector is most likely to be “interested” in the product? [1]\n",
    "\n",
    "** consultancy. **\n",
    "- Given a lead has already expressed interest and signed up, \n",
    " - signups from which region are most likely to be approved? [2]\n",
    " \n",
    " ** north-west. **\n",
    " - Is this statistically significant? Why? [5]\n",
    " \n",
    " ** Like before, the sample for some regions are too small to be statistically significant.**\n",
    "- Suppose you wanted to pick the 1000 leads most likely to sign up (who have not been called so far), based only on age, sector and region.\n",
    " - What criteria would you use to pick those leads? [10]\n",
    " \n",
    " ** Age 18-20 -- Region nort-west, south-west -- Sector food, retail, consultancy, wholesale.***\n",
    " - In what sense are those an optimal criteria set? [3]\n",
    " \n",
    " ** These are the top criteria for leads who signed up for the product. **\n",
    " - How many signups would you expect to get based on those called leads, assuming they were being called by random agents? [3]\n",
    " \n",
    " ** Around 10% of the sample, so 100 leads.**\n",
    " - If you could choose the agents to make those calls, who would you choose? Why? [3]\n",
    " \n",
    " ** I would chose agent RED because he has the highest, statistically significant, signup per call average.**\n",
    " \n"
   ]
  },
  {
   "cell_type": "code",
   "execution_count": 30,
   "metadata": {
    "collapsed": false
   },
   "outputs": [
    {
     "name": "stdout",
     "output_type": "stream",
     "text": [
      "Populating the interactive namespace from numpy and matplotlib\n"
     ]
    }
   ],
   "source": [
    "import pandas as pd\n",
    "from itertools import combinations\n",
    "from scipy.stats import ttest_ind\n",
    "%pylab inline\n",
    "pylab.rcParams['figure.figsize'] = (20, 15)"
   ]
  },
  {
   "cell_type": "code",
   "execution_count": 2,
   "metadata": {
    "collapsed": true
   },
   "outputs": [],
   "source": [
    "calls = pd.read_csv('calls.csv')\n",
    "leads = pd.read_csv('leads.csv')\n",
    "signups = pd.read_csv('signups.csv')"
   ]
  },
  {
   "cell_type": "code",
   "execution_count": 6,
   "metadata": {
    "collapsed": false
   },
   "outputs": [
    {
     "name": "stdout",
     "output_type": "stream",
     "text": [
      "(5000, 4)\n"
     ]
    },
    {
     "data": {
      "text/html": [
       "<div>\n",
       "<table border=\"1\" class=\"dataframe\">\n",
       "  <thead>\n",
       "    <tr style=\"text-align: right;\">\n",
       "      <th></th>\n",
       "      <th>Phone Number</th>\n",
       "      <th>Call Outcome</th>\n",
       "      <th>Agent</th>\n",
       "      <th>Call Number</th>\n",
       "    </tr>\n",
       "  </thead>\n",
       "  <tbody>\n",
       "    <tr>\n",
       "      <th>0</th>\n",
       "      <td>83473306392</td>\n",
       "      <td>NOT INTERESTED</td>\n",
       "      <td>orange</td>\n",
       "      <td>0</td>\n",
       "    </tr>\n",
       "    <tr>\n",
       "      <th>1</th>\n",
       "      <td>762850680150</td>\n",
       "      <td>CALL BACK LATER</td>\n",
       "      <td>orange</td>\n",
       "      <td>1</td>\n",
       "    </tr>\n",
       "    <tr>\n",
       "      <th>2</th>\n",
       "      <td>476309275079</td>\n",
       "      <td>NOT INTERESTED</td>\n",
       "      <td>orange</td>\n",
       "      <td>2</td>\n",
       "    </tr>\n",
       "    <tr>\n",
       "      <th>3</th>\n",
       "      <td>899921761538</td>\n",
       "      <td>CALL BACK LATER</td>\n",
       "      <td>red</td>\n",
       "      <td>3</td>\n",
       "    </tr>\n",
       "    <tr>\n",
       "      <th>4</th>\n",
       "      <td>906739234066</td>\n",
       "      <td>CALL BACK LATER</td>\n",
       "      <td>orange</td>\n",
       "      <td>4</td>\n",
       "    </tr>\n",
       "  </tbody>\n",
       "</table>\n",
       "</div>"
      ],
      "text/plain": [
       "   Phone Number     Call Outcome   Agent  Call Number\n",
       "0   83473306392   NOT INTERESTED  orange            0\n",
       "1  762850680150  CALL BACK LATER  orange            1\n",
       "2  476309275079   NOT INTERESTED  orange            2\n",
       "3  899921761538  CALL BACK LATER     red            3\n",
       "4  906739234066  CALL BACK LATER  orange            4"
      ]
     },
     "execution_count": 6,
     "metadata": {},
     "output_type": "execute_result"
    }
   ],
   "source": [
    "print calls.shape\n",
    "calls.head()"
   ]
  },
  {
   "cell_type": "code",
   "execution_count": 7,
   "metadata": {
    "collapsed": false
   },
   "outputs": [
    {
     "name": "stdout",
     "output_type": "stream",
     "text": [
      "(9994, 5)\n"
     ]
    },
    {
     "data": {
      "text/html": [
       "<div>\n",
       "<table border=\"1\" class=\"dataframe\">\n",
       "  <thead>\n",
       "    <tr style=\"text-align: right;\">\n",
       "      <th></th>\n",
       "      <th>Name</th>\n",
       "      <th>Phone Number</th>\n",
       "      <th>Region</th>\n",
       "      <th>Sector</th>\n",
       "      <th>Age</th>\n",
       "    </tr>\n",
       "  </thead>\n",
       "  <tbody>\n",
       "    <tr>\n",
       "      <th>0</th>\n",
       "      <td>Isabela MEZA</td>\n",
       "      <td>175718505368</td>\n",
       "      <td>north-west</td>\n",
       "      <td>wholesale</td>\n",
       "      <td>19</td>\n",
       "    </tr>\n",
       "    <tr>\n",
       "      <th>1</th>\n",
       "      <td>Deangelo LEE</td>\n",
       "      <td>937521423043</td>\n",
       "      <td>north-west</td>\n",
       "      <td>retail</td>\n",
       "      <td>38</td>\n",
       "    </tr>\n",
       "    <tr>\n",
       "      <th>2</th>\n",
       "      <td>Rosia MENDEZ</td>\n",
       "      <td>403640999962</td>\n",
       "      <td>midlands</td>\n",
       "      <td>agriculture</td>\n",
       "      <td>40</td>\n",
       "    </tr>\n",
       "    <tr>\n",
       "      <th>3</th>\n",
       "      <td>Jeremiah GALLOWAY</td>\n",
       "      <td>946740713605</td>\n",
       "      <td>scotland</td>\n",
       "      <td>food</td>\n",
       "      <td>23</td>\n",
       "    </tr>\n",
       "    <tr>\n",
       "      <th>4</th>\n",
       "      <td>Sarah POPE</td>\n",
       "      <td>264176984341</td>\n",
       "      <td>midlands</td>\n",
       "      <td>retail</td>\n",
       "      <td>18</td>\n",
       "    </tr>\n",
       "  </tbody>\n",
       "</table>\n",
       "</div>"
      ],
      "text/plain": [
       "                Name  Phone Number      Region       Sector  Age\n",
       "0       Isabela MEZA  175718505368  north-west    wholesale   19\n",
       "1       Deangelo LEE  937521423043  north-west       retail   38\n",
       "2       Rosia MENDEZ  403640999962    midlands  agriculture   40\n",
       "3  Jeremiah GALLOWAY  946740713605    scotland         food   23\n",
       "4         Sarah POPE  264176984341    midlands       retail   18"
      ]
     },
     "execution_count": 7,
     "metadata": {},
     "output_type": "execute_result"
    }
   ],
   "source": [
    "print leads.shape\n",
    "leads.head()"
   ]
  },
  {
   "cell_type": "code",
   "execution_count": 8,
   "metadata": {
    "collapsed": false
   },
   "outputs": [
    {
     "name": "stdout",
     "output_type": "stream",
     "text": [
      "(768, 2)\n"
     ]
    },
    {
     "data": {
      "text/html": [
       "<div>\n",
       "<table border=\"1\" class=\"dataframe\">\n",
       "  <thead>\n",
       "    <tr style=\"text-align: right;\">\n",
       "      <th></th>\n",
       "      <th>Lead</th>\n",
       "      <th>Approval Decision</th>\n",
       "    </tr>\n",
       "  </thead>\n",
       "  <tbody>\n",
       "    <tr>\n",
       "      <th>0</th>\n",
       "      <td>Tyree TERRY</td>\n",
       "      <td>APPROVED</td>\n",
       "    </tr>\n",
       "    <tr>\n",
       "      <th>1</th>\n",
       "      <td>Ansel WOOD</td>\n",
       "      <td>REJECTED</td>\n",
       "    </tr>\n",
       "    <tr>\n",
       "      <th>2</th>\n",
       "      <td>Ludwig DIAZ</td>\n",
       "      <td>APPROVED</td>\n",
       "    </tr>\n",
       "    <tr>\n",
       "      <th>3</th>\n",
       "      <td>Mack ARELLANO</td>\n",
       "      <td>APPROVED</td>\n",
       "    </tr>\n",
       "    <tr>\n",
       "      <th>4</th>\n",
       "      <td>Judy HENDRICKS</td>\n",
       "      <td>REJECTED</td>\n",
       "    </tr>\n",
       "  </tbody>\n",
       "</table>\n",
       "</div>"
      ],
      "text/plain": [
       "             Lead Approval Decision\n",
       "0     Tyree TERRY          APPROVED\n",
       "1      Ansel WOOD          REJECTED\n",
       "2     Ludwig DIAZ          APPROVED\n",
       "3   Mack ARELLANO          APPROVED\n",
       "4  Judy HENDRICKS          REJECTED"
      ]
     },
     "execution_count": 8,
     "metadata": {},
     "output_type": "execute_result"
    }
   ],
   "source": [
    "print signups.shape\n",
    "\n",
    "signups.head()"
   ]
  },
  {
   "cell_type": "code",
   "execution_count": 9,
   "metadata": {
    "collapsed": false
   },
   "outputs": [
    {
     "data": {
      "text/plain": [
       "orange    2234\n",
       "red       1478\n",
       "black      750\n",
       "green      339\n",
       "blue       199\n",
       "Name: Agent, dtype: int64"
      ]
     },
     "execution_count": 9,
     "metadata": {},
     "output_type": "execute_result"
    }
   ],
   "source": [
    "# Which agent made the most calls?\n",
    "calls.Agent.value_counts()"
   ]
  },
  {
   "cell_type": "code",
   "execution_count": 33,
   "metadata": {
    "collapsed": false,
    "scrolled": false
   },
   "outputs": [
    {
     "name": "stdout",
     "output_type": "stream",
     "text": [
      "Number of calls on average:  1.8395879323\n"
     ]
    },
    {
     "data": {
      "text/plain": [
       "<matplotlib.axes._subplots.AxesSubplot at 0x7f9c1fa5ba10>"
      ]
     },
     "execution_count": 33,
     "metadata": {},
     "output_type": "execute_result"
    },
    {
     "data": {
      "image/png": "[encoded data removed]",
      "text/plain": [
       "<matplotlib.figure.Figure at 0x7f9c1fa8bb90>"
      ]
     },
     "metadata": {},
     "output_type": "display_data"
    }
   ],
   "source": [
    "# For the leads that received one or more calls, how many calls were received on average?\n",
    "print 'Number of calls on average: ',calls.groupby('Phone Number')['Call Outcome'].count().mean()\n",
    "calls.groupby('Phone Number')['Call Outcome'].count().hist()"
   ]
  },
  {
   "cell_type": "code",
   "execution_count": 37,
   "metadata": {
    "collapsed": false
   },
   "outputs": [
    {
     "name": "stdout",
     "output_type": "stream",
     "text": [
      "Number of calls on average:  2.09895833333\n"
     ]
    },
    {
     "data": {
      "text/plain": [
       "<matplotlib.axes._subplots.AxesSubplot at 0x7f9c1f788c50>"
      ]
     },
     "execution_count": 37,
     "metadata": {},
     "output_type": "execute_result"
    },
    {
     "data": {
      "image/png": "[encoded data removed]",
      "text/plain": [
       "<matplotlib.figure.Figure at 0x7f9c1f7ba0d0>"
      ]
     },
     "metadata": {},
     "output_type": "display_data"
    }
   ],
   "source": [
    "# For the leads that signed up, how many calls were received, on average?\n",
    "leads_signedup_phones = leads[leads['Name'].isin(signups['Lead'].tolist())]['Phone Number'].tolist()\n",
    "leads_signedup = calls[calls['Phone Number'].isin(leads_signedup_phones)]\n",
    "print 'Number of calls on average: ',leads_signedup.groupby('Phone Number')['Call Outcome'].count().mean()\n",
    "leads_signedup.groupby('Phone Number')['Call Outcome'].count().hist()"
   ]
  },
  {
   "cell_type": "code",
   "execution_count": 39,
   "metadata": {
    "collapsed": false
   },
   "outputs": [
    {
     "data": {
      "text/plain": [
       "Agent   Call Outcome   \n",
       "black   CALL BACK LATER     92\n",
       "        INTERESTED          49\n",
       "        ANSWER MACHINE      22\n",
       "blue    INTERESTED          52\n",
       "        CALL BACK LATER     39\n",
       "        ANSWER MACHINE       4\n",
       "green   INTERESTED          67\n",
       "        CALL BACK LATER     44\n",
       "        ANSWER MACHINE       7\n",
       "orange  CALL BACK LATER    317\n",
       "        INTERESTED         284\n",
       "        ANSWER MACHINE      61\n",
       "red     INTERESTED         316\n",
       "        CALL BACK LATER    212\n",
       "        ANSWER MACHINE      46\n",
       "Name: Call Outcome, dtype: int64"
      ]
     },
     "execution_count": 39,
     "metadata": {},
     "output_type": "execute_result"
    }
   ],
   "source": [
    "# Which agent had the most signups? \n",
    "# Which assumptions did you make? (note that there is a many-to-one relationship between calls and leads) \n",
    "leads_signedup_phones = leads[leads['Name'].isin(signups['Lead'].tolist())]['Phone Number'].tolist()\n",
    "leads_signedup = calls[calls['Phone Number'].isin(leads_signedup_phones)]\n",
    "leads_signedup.groupby('Agent')['Call Outcome'].value_counts()"
   ]
  },
  {
   "cell_type": "code",
   "execution_count": 89,
   "metadata": {
    "collapsed": false,
    "scrolled": false
   },
   "outputs": [
    {
     "name": "stdout",
     "output_type": "stream",
     "text": [
      "INTERESTED calls per agent for signed up Leads:\n",
      "Agent\n",
      "black      49\n",
      "blue       52\n",
      "green      67\n",
      "orange    284\n",
      "red       316\n",
      "Name: Call Outcome, dtype: int64\n",
      "\n",
      "Total number of calls per agent:\n",
      "Agent\n",
      "black      750\n",
      "blue       199\n",
      "green      339\n",
      "orange    2234\n",
      "red       1478\n",
      "Name: Call Outcome, dtype: int64\n",
      "\n",
      "Signups per call per agent:\n",
      "Agent\n",
      "black     0.065333\n",
      "blue      0.261307\n",
      "green     0.197640\n",
      "orange    0.127126\n",
      "red       0.213802\n",
      "Name: Call Outcome, dtype: float64\n"
     ]
    }
   ],
   "source": [
    "# Which agent had the most signups per call?\n",
    "leads_signedup_phones = leads[leads['Name'].isin(signups['Lead'].tolist())]['Phone Number'].tolist()\n",
    "leads_signedup = calls[calls['Phone Number'].isin(leads_signedup_phones)]\n",
    "print 'INTERESTED calls per agent for signed up Leads:\\n',leads_signedup[leads_signedup['Call Outcome']=='INTERESTED'].groupby('Agent')['Call Outcome'].count()\n",
    "print '\\nTotal number of calls per agent:\\n', calls.groupby('Agent')['Call Outcome'].count()\n",
    "print '\\nSignups per call per agent:\\n',leads_signedup[leads_signedup['Call Outcome']=='INTERESTED'].groupby('Agent')['Call Outcome'].count()/calls.groupby('Agent')['Call Outcome'].count()"
   ]
  },
  {
   "cell_type": "code",
   "execution_count": 112,
   "metadata": {
    "collapsed": false
   },
   "outputs": [
    {
     "name": "stdout",
     "output_type": "stream",
     "text": [
      "black vs blue\n",
      "Ttest_indResult(statistic=-6.0295037539184992, pvalue=6.4238582282434348e-09)\n",
      "black vs green\n",
      "Ttest_indResult(statistic=-5.6380154816874262, pvalue=3.0077449233278108e-08)\n",
      "black vs orange\n",
      "Ttest_indResult(statistic=-5.3943045484836487, pvalue=7.8306281030122146e-08)\n",
      "black vs red\n",
      "Ttest_indResult(statistic=-10.622993716144999, pvalue=9.9136524082606499e-26)\n",
      "blue vs green\n",
      "Ttest_indResult(statistic=1.6754069807010947, pvalue=0.094671565927800377)\n",
      "blue vs orange\n",
      "Ttest_indResult(statistic=4.1919694998141246, pvalue=4.0160308671098035e-05)\n",
      "blue vs red\n",
      "Ttest_indResult(statistic=1.4397286046344311, pvalue=0.15121306001541823)\n",
      "green vs orange\n",
      "Ttest_indResult(statistic=3.095632251660422, pvalue=0.0020978107221804711)\n",
      "green vs red\n",
      "Ttest_indResult(statistic=-0.6693904100686876, pvalue=0.50354648648383604)\n",
      "orange vs red\n",
      "Ttest_indResult(statistic=-6.778637137145048, pvalue=1.4834424095372522e-11)\n"
     ]
    }
   ],
   "source": [
    "# Was the variation between the agents’ signups-per-call statistically significant? \n",
    "\n",
    "\n",
    "#this function creates a binary distribution where 1 means that the call was successful (lead signed up) and 0 otherwise\n",
    "def agentCallDist(row,signedLeads):\n",
    "    if row['Phone Number'] in signedLeads and row['Call Outcome']=='INTERESTED':\n",
    "        return 1\n",
    "    return 0\n",
    "leads_signedup_phones = leads[leads['Name'].isin(signups['Lead'].tolist())]['Phone Number'].tolist()\n",
    "signedup_calls = calls.copy(deep=True)\n",
    "signedup_calls['Signup'] = signedup_calls.apply(lambda x: agentCallDist(x,leads_signedup_phones),axis=1)\n",
    "grouped = signedup_calls.groupby('Agent')\n",
    "\n",
    "agent_list = []\n",
    "for agent,group in grouped:\n",
    "    agent_list.append((agent,group['Signup'].tolist()))\n",
    "\n",
    "\n",
    "for a,b in combinations(agent_list,2):\n",
    "    print a[0]+' vs '+b[0]\n",
    "    print ttest_ind(a[1],b[1],equal_var=False)\n"
   ]
  },
  {
   "cell_type": "code",
   "execution_count": null,
   "metadata": {
    "collapsed": true
   },
   "outputs": [],
   "source": [
    "# Why?\n",
    "# The difference was not always statistically significant because the sample size of certain agents was too small."
   ]
  },
  {
   "cell_type": "markdown",
   "metadata": {},
   "source": [
    "# Statistical Significance\n",
    "\n",
    "A statistically significant result isn’t attributed to chance and depends on two key variables: sample size and effect size.\n",
    "\n",
    "**Sample size** refers to how large the sample for your experiment is. The larger your sample size, the more confident you can be in the result of the experiment.\n",
    "\n",
    "**Effect size** refers to the size of the difference in results between the two sample sets and indicates practical significance.\n",
    "\n",
    "**P-value** refers to the probability value of observing an effect from a sample. A p-value of < 0.05 is the conventional threshold for declaring statistical significance.\n",
    "\n"
   ]
  },
  {
   "cell_type": "code",
   "execution_count": 82,
   "metadata": {
    "collapsed": false
   },
   "outputs": [
    {
     "data": {
      "text/plain": [
       "Region\n",
       "north-west          365\n",
       "south-west          161\n",
       "midlands            150\n",
       "north-east          139\n",
       "scotland            137\n",
       "south-east          136\n",
       "south                62\n",
       "london               56\n",
       "wales                50\n",
       "northern-ireland     40\n",
       "Name: Name, dtype: int64"
      ]
     },
     "execution_count": 82,
     "metadata": {},
     "output_type": "execute_result"
    }
   ],
   "source": [
    "# A lead from which region is most likely to be “interested” in the product?\n",
    "interested_phone_numbers = calls[calls['Call Outcome']=='INTERESTED']['Phone Number'].drop_duplicates().tolist()\n",
    "interested_leads = leads[leads['Phone Number'].isin(interested_phone_numbers)]\n",
    "interested_leads.groupby('Region')['Name'].count().sort_values(ascending=False)"
   ]
  },
  {
   "cell_type": "code",
   "execution_count": 83,
   "metadata": {
    "collapsed": false
   },
   "outputs": [
    {
     "data": {
      "text/plain": [
       "Sector\n",
       "consultancy      301\n",
       "retail           290\n",
       "food             261\n",
       "wholesale        233\n",
       "entertainment    135\n",
       "construction      46\n",
       "agriculture       30\n",
       "Name: Name, dtype: int64"
      ]
     },
     "execution_count": 83,
     "metadata": {},
     "output_type": "execute_result"
    }
   ],
   "source": [
    "# A lead from which sector is most likely to be “interested” in the product?\n",
    "interested_phone_numbers = calls[calls['Call Outcome']=='INTERESTED']['Phone Number'].drop_duplicates().tolist()\n",
    "interested_leads = leads[leads['Phone Number'].isin(interested_phone_numbers)]\n",
    "interested_leads.groupby('Sector')['Name'].count().sort_values(ascending=False)"
   ]
  },
  {
   "cell_type": "code",
   "execution_count": 88,
   "metadata": {
    "collapsed": false
   },
   "outputs": [
    {
     "data": {
      "text/plain": [
       "Region\n",
       "north-west          0.042411\n",
       "scotland            0.032947\n",
       "south-east          0.025893\n",
       "south-west          0.023041\n",
       "northern-ireland    0.021661\n",
       "south               0.021314\n",
       "north-east          0.017668\n",
       "midlands            0.016079\n",
       "wales               0.008651\n",
       "london              0.007722\n",
       "Name: Name, dtype: float64"
      ]
     },
     "execution_count": 88,
     "metadata": {},
     "output_type": "execute_result"
    }
   ],
   "source": [
    "# Given a lead has already expressed interest and signed up, \n",
    "#  - signups from which region are most likely to be approved? \n",
    "\n",
    "signups_approved = signups[signups['Approval Decision']=='APPROVED']['Lead'].tolist()\n",
    "approved_leads = leads[leads['Name'].isin(signups_approved)]\n",
    "(approved_leads.groupby('Region')['Name'].count().sort_values(ascending=False)/leads.groupby('Region')['Name'].count().sort_values(ascending=False)).sort_values(ascending=False)"
   ]
  },
  {
   "cell_type": "code",
   "execution_count": 118,
   "metadata": {
    "collapsed": false
   },
   "outputs": [
    {
     "data": {
      "text/plain": [
       "north-west          2240\n",
       "midlands            1617\n",
       "north-east          1132\n",
       "scotland            1123\n",
       "south-east          1120\n",
       "south-west          1085\n",
       "wales                578\n",
       "south                563\n",
       "northern-ireland     277\n",
       "london               259\n",
       "Name: Region, dtype: int64"
      ]
     },
     "execution_count": 118,
     "metadata": {},
     "output_type": "execute_result"
    }
   ],
   "source": [
    "leads['Region'].value_counts()# The average signup per call among all the agents is 0.173"
   ]
  },
  {
   "cell_type": "code",
   "execution_count": 117,
   "metadata": {
    "collapsed": false,
    "scrolled": true
   },
   "outputs": [
    {
     "name": "stdout",
     "output_type": "stream",
     "text": [
      "london vs midlands\n",
      "Ttest_indResult(statistic=-2.8166193689020051, pvalue=0.0064627253407762387)\n",
      "london vs north-east\n",
      "Ttest_indResult(statistic=-2.2422150122670712, pvalue=0.028497084925772478)\n",
      "london vs north-west\n",
      "Ttest_indResult(statistic=-5.7107267176057137, pvalue=8.1779523208189802e-07)\n",
      "london vs northern-ireland\n",
      "Ttest_indResult(statistic=-1.6049996166787139, pvalue=0.11669698531301076)\n",
      "london vs scotland\n",
      "Ttest_indResult(statistic=-4.7437687303351206, pvalue=9.9749267814195486e-06)\n",
      "london vs south\n",
      "Ttest_indResult(statistic=-2.8616307879775889, pvalue=0.0061174629331057261)\n",
      "london vs south-east\n",
      "Ttest_indResult(statistic=-3.4079958317476104, pvalue=0.0010992375374041161)\n",
      "london vs south-west\n",
      "Ttest_indResult(statistic=-2.3588810829703326, pvalue=0.021815429070921225)\n",
      "london vs wales\n",
      "Ttest_indResult(statistic=-0.80919237218111573, pvalue=0.42177841668981153)\n",
      "midlands vs north-east\n",
      "Ttest_indResult(statistic=0.62024935164892958, pvalue=0.53592181148538365)\n",
      "midlands vs north-west\n",
      "Ttest_indResult(statistic=-2.8363314544324658, pvalue=0.0050671953342836754)\n",
      "midlands vs northern-ireland\n",
      "Ttest_indResult(statistic=0.34987536853399753, pvalue=0.72842428356834144)\n",
      "midlands vs scotland\n",
      "Ttest_indResult(statistic=-2.2681279355737334, pvalue=0.024623329951961235)\n",
      "midlands vs south\n",
      "Ttest_indResult(statistic=-0.90063357162006152, pvalue=0.3720323552286714)\n",
      "midlands vs south-east\n",
      "Ttest_indResult(statistic=-0.73587020426522232, pvalue=0.46280520173934814)\n",
      "midlands vs south-west\n",
      "Ttest_indResult(statistic=0.63435755025517715, pvalue=0.52662698427614396)\n",
      "midlands vs wales\n",
      "Ttest_indResult(statistic=1.7798941746346155, pvalue=0.079176115933535393)\n",
      "north-east vs north-west\n",
      "Ttest_indResult(statistic=-3.5431971196026284, pvalue=0.00051086205702093729)\n",
      "north-east vs northern-ireland\n",
      "Ttest_indResult(statistic=-0.059708629006451387, pvalue=0.95271055948395766)\n",
      "north-east vs scotland\n",
      "Ttest_indResult(statistic=-2.8386925792308646, pvalue=0.0051229584920147028)\n",
      "north-east vs south\n",
      "Ttest_indResult(statistic=-1.3217790143374668, pvalue=0.1921725188549456)\n",
      "north-east vs south-east\n",
      "Ttest_indResult(statistic=-1.3321237211093699, pvalue=0.18464967865100945)\n",
      "north-east vs south-west\n",
      "Ttest_indResult(statistic=-0.018652478752489505, pvalue=0.98513975405456655)\n",
      "north-east vs wales\n",
      "Ttest_indResult(statistic=1.2422279244226146, pvalue=0.21809546273513869)\n",
      "north-west vs northern-ireland\n",
      "Ttest_indResult(statistic=2.0943748239447388, pvalue=0.044746197027124443)\n",
      "north-west vs scotland\n",
      "Ttest_indResult(statistic=0.017831702651406368, pvalue=0.98579722757250143)\n",
      "north-west vs south\n",
      "Ttest_indResult(statistic=0.82743547900783465, pvalue=0.41274226941390313)\n",
      "north-west vs south-east\n",
      "Ttest_indResult(statistic=1.8647215104299713, pvalue=0.063993792619215895)\n",
      "north-west vs south-west\n",
      "Ttest_indResult(statistic=3.7736153036044011, pvalue=0.00020520317619498961)\n",
      "north-west vs wales\n",
      "Ttest_indResult(statistic=4.3238310954812054, pvalue=6.3705221014236441e-05)\n",
      "northern-ireland vs scotland\n",
      "Ttest_indResult(statistic=-1.9005638291276774, pvalue=0.064267801374334257)\n",
      "northern-ireland vs south\n",
      "Ttest_indResult(statistic=-0.99720669845429744, pvalue=0.3232681193430248)\n",
      "northern-ireland vs south-east\n",
      "Ttest_indResult(statistic=-0.83988859734720345, pvalue=0.40607364103623667)\n",
      "northern-ireland vs south-west\n",
      "Ttest_indResult(statistic=0.049058613882798967, pvalue=0.96115875759502578)\n",
      "northern-ireland vs wales\n",
      "Ttest_indResult(statistic=0.94155949891921631, pvalue=0.35168525219461289)\n",
      "scotland vs south\n",
      "Ttest_indResult(statistic=0.73969806967678553, pvalue=0.46249066495056868)\n",
      "scotland vs south-east\n",
      "Ttest_indResult(statistic=1.511900895171707, pvalue=0.13247920166854416)\n",
      "scotland vs south-west\n",
      "Ttest_indResult(statistic=2.9479112316869593, pvalue=0.0036758241289231281)\n",
      "scotland vs wales\n",
      "Ttest_indResult(statistic=3.6728521241107126, pvalue=0.00041834962241044511)\n",
      "south vs south-east\n",
      "Ttest_indResult(statistic=0.3743693152830978, pvalue=0.70959750149439493)\n",
      "south vs south-west\n",
      "Ttest_indResult(statistic=1.3403773550805249, pvalue=0.18656685265938175)\n",
      "south vs wales\n",
      "Ttest_indResult(statistic=2.1384816691486508, pvalue=0.036809133941174473)\n",
      "south-east vs south-west\n",
      "Ttest_indResult(statistic=1.3790513133440014, pvalue=0.16965175640706642)\n",
      "south-east vs wales\n",
      "Ttest_indResult(statistic=2.3712581631693701, pvalue=0.020142963712185883)\n",
      "south-west vs wales\n",
      "Ttest_indResult(statistic=1.3062706885087774, pvalue=0.19590330036629208)\n"
     ]
    }
   ],
   "source": [
    "#  - Is this statistically significant? Why? \n",
    "leads_signedup = leads.merge(signups,how='right',left_on='Name',right_on='Lead')\n",
    "leads_signedup['Outcome'] = leads_signedup['Approval Decision'].apply(lambda x: 1 if x=='APPROVED' else 0)\n",
    "grouped = leads_signedup.groupby('Region')\n",
    "\n",
    "region_list=[]\n",
    "for region,group in grouped:\n",
    "    region_list.append((region,group['Outcome'].tolist()))\n",
    "    \n",
    "for a,b in combinations(region_list,2):\n",
    "    print a[0]+' vs '+b[0]\n",
    "    print ttest_ind(a[1],b[1],equal_var=False)"
   ]
  },
  {
   "cell_type": "code",
   "execution_count": null,
   "metadata": {
    "collapsed": true
   },
   "outputs": [],
   "source": [
    "# Suppose you wanted to pick the 1000 leads most likely to sign up (who have not been called so far), \n",
    "# based only on age, sector and region.\n",
    "# What criteria would you use to pick those leads? [10]\n",
    "# In what sense are those an optimal criteria set? [3]\n",
    "# How many signups would you expect to get based on those called leads, assuming they were being called by random agents? [3]\n",
    "# If you could choose the agents to make those calls, who would you choose? Why? [3]"
   ]
  },
  {
   "cell_type": "code",
   "execution_count": 127,
   "metadata": {
    "collapsed": false
   },
   "outputs": [
    {
     "name": "stdout",
     "output_type": "stream",
     "text": [
      "Top Age for signups\n",
      "18    44\n",
      "19    40\n",
      "20    37\n",
      "30    29\n",
      "27    29\n",
      "22    28\n",
      "21    28\n",
      "24    27\n",
      "23    27\n",
      "25    25\n",
      "Name: Age, dtype: int64\n",
      "\n",
      "Top Region for signups\n",
      "north-west          210\n",
      "south-west          102\n",
      "midlands             91\n",
      "south-east           86\n",
      "north-east           82\n",
      "scotland             82\n",
      "wales                34\n",
      "south                32\n",
      "london               25\n",
      "northern-ireland     24\n",
      "Name: Region, dtype: int64\n",
      "\n",
      "Top Sector for signups\n",
      "food             174\n",
      "retail           174\n",
      "consultancy      160\n",
      "wholesale        143\n",
      "entertainment     79\n",
      "construction      25\n",
      "agriculture       13\n",
      "Name: Sector, dtype: int64\n"
     ]
    }
   ],
   "source": [
    "#In order to answer the last set of question we need to investigate the data first.\n",
    "# Lets see what are the age, sector and region for the signed up leads\n",
    "\n",
    "signed_leads = leads.merge(signups, how='right',left_on='Name',right_on='Lead')\n",
    "print 'Top Age for signups'\n",
    "print signed_leads['Age'].value_counts().sort_values(ascending=False)[:10]\n",
    "print '\\nTop Region for signups'\n",
    "print signed_leads['Region'].value_counts().sort_values(ascending=False)[:10]\n",
    "print '\\nTop Sector for signups'\n",
    "print signed_leads['Sector'].value_counts().sort_values(ascending=False)[:10]"
   ]
  },
  {
   "cell_type": "code",
   "execution_count": null,
   "metadata": {
    "collapsed": false
   },
   "outputs": [],
   "source": [
    "# What criteria would you use to pick those leads? \n",
    "# Age between 18-20\n",
    "# Region north-west and south-west\n",
    "# Sector food, retail, consultancy, wholesale"
   ]
  },
  {
   "cell_type": "code",
   "execution_count": null,
   "metadata": {
    "collapsed": false
   },
   "outputs": [],
   "source": [
    "# In what sense are those an optimal criteria set?\n",
    "# Those are optimal criteria because most of the leads who signed up for the product had them."
   ]
  },
  {
   "cell_type": "code",
   "execution_count": 168,
   "metadata": {
    "collapsed": false
   },
   "outputs": [
    {
     "name": "stderr",
     "output_type": "stream",
     "text": [
      "/usr/local/lib/python2.7/dist-packages/ipykernel/__main__.py:12: SettingWithCopyWarning: \n",
      "A value is trying to be set on a copy of a slice from a DataFrame\n",
      "\n",
      "See the caveats in the documentation: http://pandas.pydata.org/pandas-docs/stable/indexing.html#indexing-view-versus-copy\n"
     ]
    },
    {
     "data": {
      "text/plain": [
       "(261, 5)"
      ]
     },
     "execution_count": 168,
     "metadata": {},
     "output_type": "execute_result"
    }
   ],
   "source": [
    "# How many signups would you expect to get based on those called leads, assuming they were being called \n",
    "# by random agents?\n",
    "# Now lets see how many leads with those criteria signed up\n",
    "\n",
    "optimal_leads_age = leads[leads['Age']<21 ]\n",
    "optimal_leads_region = leads[leads['Region'].isin(['north-west','south-west']) ]\n",
    "optimal_leads_sector = leads[leads['Sector'].isin(['food','retail','consultancy','wholesale'])]\n",
    "optimal_leads = pd.concat([optimal_leads_age,optimal_leads_region,optimal_leads_sector])\n",
    "optimal_leads = optimal_leads.drop_duplicates()\n",
    "optimal_leads_selected = optimal_leads_region[optimal_leads_region['Sector'].isin(['food','retail','consultancy','wholesale'])]\n",
    "optimal_leads_selected.sort_values(by=['Age'],inplace=True)\n",
    "optimal_leads_selected[optimal_leads_selected['Name'].isin(signups['Lead'].tolist())].shape\n",
    "\n",
    "#It turns out that 10% of leads with the selected criteria signed up for the product"
   ]
  }
 ],
 "metadata": {
  "kernelspec": {
   "display_name": "Python 2",
   "language": "python",
   "name": "python2"
  },
  "language_info": {
   "codemirror_mode": {
    "name": "ipython",
    "version": 2
   },
   "file_extension": ".py",
   "mimetype": "text/x-python",
   "name": "python",
   "nbconvert_exporter": "python",
   "pygments_lexer": "ipython2",
   "version": "2.7.12"
  }
 },
 "nbformat": 4,
 "nbformat_minor": 1
}
